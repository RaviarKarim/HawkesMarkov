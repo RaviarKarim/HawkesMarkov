{
 "cells": [
  {
   "cell_type": "code",
   "execution_count": 8,
   "metadata": {},
   "outputs": [],
   "source": [
    "''' \n",
    "    Trivariate setting\n",
    "    \n",
    "    Stationary moments\n",
    "\n",
    "'''\n",
    "\n",
    "\n",
    "''' First order '''\n",
    "\n",
    "L1st_stat = -np.dot(np.linalg.inv(B_tri-D_alpha_tri),L_01_3dim)\n",
    "Q1st_stat = np.dot(np.linalg.inv(D_mu_tri), L1st_stat)\n",
    "\n",
    "\n",
    "''' Second order '''\n",
    "\n",
    "B_temp = np.ones((3,3)) \n",
    "np.fill_diagonal(B_temp,2) # Exponential marks (!) \n",
    "\n",
    "L_syl = np.multiply(B_temp,np.dot(np.dot(B_tri,np.diag(L1st_stat)),B_tri.T)) + np.dot(D_alpha_tri,np.outer(l_inf_tri,L1st_stat)) + np.dot(np.outer(L1st_stat,l_inf_tri),D_alpha_tri)\n",
    "L2nd_stat = linalg.solve_sylvester(B_tri - D_alpha_tri, (B_tri - D_alpha_tri).T, -L_syl)\n",
    "L2nd_stat_nonreps = [L2nd_stat[0][0], L2nd_stat[0][1], L2nd_stat[0][2], L2nd_stat[1][1], L2nd_stat[1][2], L2nd_stat[2][2]]\n",
    "\n",
    "LQ_syl = L2nd_stat + np.outer(L_01_3dim, Q1st_stat) + np.dot(B_tri,np.diag(L1st_stat))\n",
    "LQ_stat = linalg.solve_sylvester(B_tri - D_alpha_tri, - D_mu_tri,-LQ_syl)\n",
    "\n",
    "Q_syl = LQ_stat + LQ_stat.T\n",
    "Q_2nd_stat = linalg.solve_sylvester(-D_mu_tri, -D_mu_tri, - Q_syl)\n",
    "Q2nd_stat_nonreps = [Q_2nd_stat[0][0], Q_2nd_stat[0][1], Q_2nd_stat[0][2], Q_2nd_stat[1][1], Q_2nd_stat[1][2], Q_2nd_stat[2][2]]\n",
    "\n"
   ]
  },
  {
   "cell_type": "code",
   "execution_count": 9,
   "metadata": {},
   "outputs": [],
   "source": [
    "''' \n",
    "    Bivariate setting\n",
    "    \n",
    "    Stationary moments\n",
    "\n",
    "'''\n",
    "\n",
    "\n",
    "''' First order '''\n",
    "\n",
    "L1st_stat_bi = -np.dot(np.linalg.inv(B_bi-D_alpha_bi),L_01_2dim)\n",
    "Q1st_stat_bi = np.dot(np.linalg.inv(D_mu_bi), L1st_stat_bi)\n",
    "\n",
    "\n",
    "''' Second order '''\n",
    "\n",
    "B_temp_bi = np.ones((2,2))\n",
    "np.fill_diagonal(B_temp_bi,2)\n",
    "\n",
    "L_syl_bi = np.multiply(B_temp_bi,np.dot(np.dot(B_bi,np.diag(L1st_stat_bi)),B_bi.T)) + np.dot(D_alpha_bi,np.outer(l_inf_bi,L1st_stat_bi)) + np.dot(np.outer(L1st_stat_bi,l_inf_bi),D_alpha_bi)\n",
    "L2nd_stat_bi = linalg.solve_sylvester(B_bi - D_alpha_bi, (B_bi - D_alpha_bi).T, - L_syl_bi)\n",
    "L2nd_stat_nonreps_bi = [L2nd_stat_bi[0][0], L2nd_stat_bi[0][1], L2nd_stat_bi[1][1]]\n",
    "\n",
    "LQ_syl_bi = L2nd_stat_bi + np.outer(L_01_2dim, Q1st_stat_bi) + np.dot(B_bi,np.diag(L1st_stat_bi))\n",
    "LQ_stat_bi = linalg.solve_sylvester(B_bi - D_alpha_bi, - D_mu_bi,-LQ_syl_bi)\n",
    "LQ_stat_bi_vec = [LQ_stat_bi[0][0], LQ_stat_bi[1][0], LQ_stat_bi[0][1], LQ_stat_bi[1][1]]\n",
    "\n",
    "Q_syl_bi = LQ_stat_bi + LQ_stat_bi.T\n",
    "Q_2nd_stat_bi = linalg.solve_sylvester(-D_mu_bi, -D_mu_bi, - Q_syl_bi)\n",
    "Q2nd_stat_nonreps_bi = [Q_2nd_stat_bi[0][0], Q_2nd_stat_bi[0][1], Q_2nd_stat_bi[1][1]]\n"
   ]
  }
 ],
 "metadata": {
  "kernelspec": {
   "display_name": "Python 3",
   "language": "python",
   "name": "python3"
  },
  "language_info": {
   "codemirror_mode": {
    "name": "ipython",
    "version": 3
   },
   "file_extension": ".py",
   "mimetype": "text/x-python",
   "name": "python",
   "nbconvert_exporter": "python",
   "pygments_lexer": "ipython3",
   "version": "3.8.5"
  }
 },
 "nbformat": 4,
 "nbformat_minor": 4
}
